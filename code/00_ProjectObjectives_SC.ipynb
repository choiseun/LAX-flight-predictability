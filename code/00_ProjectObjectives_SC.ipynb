{
 "cells": [
  {
   "cell_type": "markdown",
   "id": "c94901f3",
   "metadata": {},
   "source": [
    "### Define response variables for each of the 3 objectives \n",
    "\n",
    "**(1) Are there specific characteristics of the time series representing flight operations that contribute most to the predictability of the time series?**\n",
    "\n",
    "2 response variables. Flight operations = (1) arrivals_ontime and (2) departures_ontime. Perform train/test split. Forecast the last 6 months of data (11/1/22 to 4/1/23, inclusive).\n",
    "\n",
    "**(2) Is there any relationship between the trends of flying international versus flying domestic?**\n",
    "\n",
    "Compare the trends of (1) arrivals_domestic vs. arrivals_international and (2) departures_domestic vs. departures_international.\n",
    "\n",
    "**(3) Are there any external or exogenous factors that help in predicting flight operations?**\n",
    "\n",
    "External/exogenous factors include any features that were (1) not part of the original data set or (2) not derived from features in the original data set (e.g. a new feature created by finding the difference between arrivals_domestic and departures_domestic would be considered an internal factor). In the above cleaned data set, external/exogenous factors include: (1) temp, (2) precipitation, and (3) during_covid. Additional external/exogenous factors may be added to the data set, but these 3 will be utilized to see if they help in predicting flight operations."
   ]
  },
  {
   "cell_type": "markdown",
   "id": "68b41b48",
   "metadata": {},
   "source": [
    "### Evaluation Metrics for Each Objective\n",
    "\n",
    "(1) Measured via MAPE and MSE\n",
    "\n",
    "(2) None\n",
    "\n",
    "(3) p-value at 95% significance level"
   ]
  },
  {
   "cell_type": "code",
   "execution_count": null,
   "id": "287a4834",
   "metadata": {},
   "outputs": [],
   "source": []
  }
 ],
 "metadata": {
  "kernelspec": {
   "display_name": "R",
   "language": "R",
   "name": "ir"
  },
  "language_info": {
   "codemirror_mode": "r",
   "file_extension": ".r",
   "mimetype": "text/x-r-source",
   "name": "R",
   "pygments_lexer": "r",
   "version": "4.2.3"
  }
 },
 "nbformat": 4,
 "nbformat_minor": 5
}
