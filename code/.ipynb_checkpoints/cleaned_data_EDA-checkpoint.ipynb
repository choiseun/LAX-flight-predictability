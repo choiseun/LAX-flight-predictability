{
 "cells": [
  {
   "cell_type": "code",
   "execution_count": 1,
   "metadata": {
    "id": "SbD6DbYbwkIB"
   },
   "outputs": [
    {
     "ename": "ModuleNotFoundError",
     "evalue": "No module named 'google'",
     "output_type": "error",
     "traceback": [
      "\u001b[0;31m---------------------------------------------------------------------------\u001b[0m",
      "\u001b[0;31mModuleNotFoundError\u001b[0m                       Traceback (most recent call last)",
      "Cell \u001b[0;32mIn[1], line 6\u001b[0m\n\u001b[1;32m      4\u001b[0m \u001b[38;5;28;01mimport\u001b[39;00m \u001b[38;5;21;01mmatplotlib\u001b[39;00m\u001b[38;5;21;01m.\u001b[39;00m\u001b[38;5;21;01mdates\u001b[39;00m \u001b[38;5;28;01mas\u001b[39;00m \u001b[38;5;21;01mmdates\u001b[39;00m\n\u001b[1;32m      5\u001b[0m \u001b[38;5;28;01mimport\u001b[39;00m \u001b[38;5;21;01mmatplotlib\u001b[39;00m\u001b[38;5;21;01m.\u001b[39;00m\u001b[38;5;21;01mpyplot\u001b[39;00m \u001b[38;5;28;01mas\u001b[39;00m \u001b[38;5;21;01mplt\u001b[39;00m\n\u001b[0;32m----> 6\u001b[0m \u001b[38;5;28;01mfrom\u001b[39;00m \u001b[38;5;21;01mgoogle\u001b[39;00m\u001b[38;5;21;01m.\u001b[39;00m\u001b[38;5;21;01mcolab\u001b[39;00m \u001b[38;5;28;01mimport\u001b[39;00m drive\n\u001b[1;32m      7\u001b[0m \u001b[38;5;28;01mfrom\u001b[39;00m \u001b[38;5;21;01msklearn\u001b[39;00m\u001b[38;5;21;01m.\u001b[39;00m\u001b[38;5;21;01mmodel_selection\u001b[39;00m \u001b[38;5;28;01mimport\u001b[39;00m KFold\n\u001b[1;32m      8\u001b[0m \u001b[38;5;28;01mfrom\u001b[39;00m \u001b[38;5;21;01msklearn\u001b[39;00m\u001b[38;5;21;01m.\u001b[39;00m\u001b[38;5;21;01mensemble\u001b[39;00m \u001b[38;5;28;01mimport\u001b[39;00m RandomForestRegressor\n",
      "\u001b[0;31mModuleNotFoundError\u001b[0m: No module named 'google'"
     ]
    }
   ],
   "source": [
    "# @title Import libraries\n",
    "import pandas as pd\n",
    "import seaborn as sns\n",
    "import matplotlib.dates as mdates\n",
    "import matplotlib.pyplot as plt\n",
    "from google.colab import drive\n",
    "from sklearn.model_selection import KFold\n",
    "from sklearn.ensemble import RandomForestRegressor\n",
    "from sklearn.model_selection import RandomizedSearchCV\n",
    "from sklearn.model_selection import train_test_split\n",
    "import numpy as np"
   ]
  },
  {
   "cell_type": "code",
   "execution_count": null,
   "metadata": {
    "colab": {
     "base_uri": "https://localhost:8080/"
    },
    "id": "oKiwYgFN6y7g",
    "outputId": "c03297b3-116b-4945-a3ea-62a30375b1b5"
   },
   "outputs": [],
   "source": [
    "# @title Mount Google Drive\n",
    "# Mount Google Drive\n",
    "drive.mount('/content/drive')"
   ]
  },
  {
   "cell_type": "code",
   "execution_count": null,
   "metadata": {
    "id": "AtwV6oIf6vyR"
   },
   "outputs": [],
   "source": [
    "# @title Read cleaned dataset\n",
    "# Read the data for arrivals and departures\n",
    "data = pd.read_csv(\"/content/drive/My Drive/cleaned_data.csv\")\n",
    "# Delete the first column\n",
    "df = data.drop('Unnamed: 0', axis=1)\n",
    "\n",
    "# Set the new first column as the index\n",
    "df = df.set_index('date')"
   ]
  },
  {
   "cell_type": "code",
   "execution_count": null,
   "metadata": {
    "colab": {
     "base_uri": "https://localhost:8080/",
     "height": 856
    },
    "id": "dx_2ooAKL5G8",
    "outputId": "60b12c88-7896-4ab7-9e01-80fa9d6e087f"
   },
   "outputs": [],
   "source": [
    "# @title Correlation Matrix of the Modified dataset\n",
    "plt.figure(figsize=(20, 8))\n",
    "# Correlation matrix for arrivals\n",
    "correlation_matrix = df.corr()\n",
    "sns.heatmap(correlation_matrix, annot=True, cmap='coolwarm')\n",
    "plt.title(\"Correlation Matrix (Arrivals)\")\n",
    "plt.show()"
   ]
  },
  {
   "cell_type": "code",
   "execution_count": null,
   "metadata": {
    "colab": {
     "base_uri": "https://localhost:8080/",
     "height": 1000
    },
    "id": "lS2_lcfiNtY1",
    "outputId": "a4f694d8-0467-4880-86a3-9e7805432b9f"
   },
   "outputs": [],
   "source": [
    "# @title Pairplot of the Modified dataset\n",
    "sns.pairplot(df,hue='during_covid',height=2.5)\n"
   ]
  },
  {
   "cell_type": "code",
   "execution_count": null,
   "metadata": {
    "id": "6-wJ8mq78JlA"
   },
   "outputs": [],
   "source": [
    "# @title Creating a a variable Delta being the difference between arrivals and departures for several variables.\n",
    "df['delta_domestic']= df['arrivals_domestic']- df['departures_domestic']\n",
    "df['delta_international']= df['arrivals_international']- df['departures_international']\n",
    "df['delta_ontime']= df['arrivals_ontime']- df['departures_ontime']\n",
    "df['delta_delayed']= df['arrivals_delayed']- df['departures_delayed']\n",
    "df['delta_cancelled']= df['arrivals_cancelled']- df['departures_cancelled']\n",
    "df['delta_passengers']= df['arrivals_passengers']- df['departures_passengers']\n",
    "df2=df[['delta_domestic','delta_international','delta_ontime','delta_delayed','delta_cancelled','delta_passengers','temp','precipitation','during_covid']]"
   ]
  },
  {
   "cell_type": "code",
   "execution_count": null,
   "metadata": {
    "colab": {
     "base_uri": "https://localhost:8080/",
     "height": 455
    },
    "id": "aI2yxXtZAP-k",
    "outputId": "6e90e797-9697-4506-875e-36cc922cff2e"
   },
   "outputs": [],
   "source": [
    "df2.head()"
   ]
  },
  {
   "cell_type": "code",
   "execution_count": null,
   "metadata": {
    "colab": {
     "base_uri": "https://localhost:8080/",
     "height": 816
    },
    "id": "Eh_mocaE0rP8",
    "outputId": "644d6256-461f-42ce-da73-dd6da6785d3c"
   },
   "outputs": [],
   "source": [
    "# @title Correlation Matrix of the Modified dataset\n",
    "plt.figure(figsize=(12, 8))\n",
    "# Correlation matrix for arrivals\n",
    "correlation_matrix = df2.corr()\n",
    "sns.heatmap(correlation_matrix, annot=True, cmap='coolwarm')\n",
    "plt.title(\"Correlation Matrix (Arrivals)\")\n",
    "plt.show()"
   ]
  },
  {
   "cell_type": "code",
   "execution_count": null,
   "metadata": {
    "colab": {
     "base_uri": "https://localhost:8080/",
     "height": 1000
    },
    "id": "zSU6_vnFOzsp",
    "outputId": "5fe3341f-1078-4acf-89db-394deb83553f"
   },
   "outputs": [],
   "source": [
    "# @title Pairplot of the Delta dataset\n",
    "sns.pairplot(df2,hue='during_covid',height=2.5)"
   ]
  },
  {
   "cell_type": "code",
   "execution_count": null,
   "metadata": {
    "colab": {
     "base_uri": "https://localhost:8080/",
     "height": 771
    },
    "id": "Bpli99AXx7xA",
    "outputId": "035590db-1d98-4e6f-88ec-90697109c39f"
   },
   "outputs": [],
   "source": [
    "plt.figure(figsize=(20, 8))\n",
    "# Create a plot for domestic flights\n",
    "sns.lineplot(\n",
    "    y = \"delta_domestic\",\n",
    "    x = \"date\",\n",
    "    data = df2,\n",
    "    color = \"red\",\n",
    "    hue=\"during_covid\",\n",
    "    palette=[\"blue\", \"red\"],\n",
    "    style=\"during_covid\",\n",
    "    markers=[\"o\", \"s\"]\n",
    ")\n",
    "# Set plot title and labels\n",
    "plt.title(\"Delta (Domestic Flights)\")\n",
    "plt.xlabel(\"date\")\n",
    "plt.ylabel(\"Domestic\")\n",
    "plt.xticks(rotation=45)\n",
    "plt.gca().xaxis.set_major_locator(mdates.YearLocator(1))\n",
    "# Show the plot\n",
    "plt.show()"
   ]
  },
  {
   "cell_type": "code",
   "execution_count": null,
   "metadata": {
    "colab": {
     "base_uri": "https://localhost:8080/",
     "height": 771
    },
    "id": "Wi7V_wrEMvoe",
    "outputId": "2b9dbbce-3203-45ec-d985-69693d4c1568"
   },
   "outputs": [],
   "source": [
    "plt.figure(figsize=(20, 8))\n",
    "# Create a plot for international flights\n",
    "sns.lineplot(\n",
    "    y=\"delta_international\",\n",
    "    x=\"date\",\n",
    "    data=df2,\n",
    "    hue=\"during_covid\",\n",
    "    palette=[\"blue\", \"red\"],\n",
    "    style=\"during_covid\",\n",
    "    markers=[\"o\", \"s\"]\n",
    ")\n",
    "# Set plot title and labels\n",
    "plt.title(\"Delta (International Flights)\")\n",
    "plt.xlabel(\"date\")\n",
    "plt.ylabel(\"International\")\n",
    "plt.xticks(rotation=45)\n",
    "plt.gca().xaxis.set_major_locator(mdates.YearLocator(1))\n",
    "# Show the plot\n",
    "plt.show()"
   ]
  },
  {
   "cell_type": "code",
   "execution_count": null,
   "metadata": {
    "colab": {
     "base_uri": "https://localhost:8080/",
     "height": 771
    },
    "id": "kr-EqIe90uvC",
    "outputId": "5c3fd701-4d12-4cf5-8d74-cdead2ba18db"
   },
   "outputs": [],
   "source": [
    "plt.figure(figsize=(20, 8))\n",
    "# Create a plot for domestic flights\n",
    "sns.lineplot(\n",
    "    y = \"delta_ontime\",\n",
    "    x = \"date\",\n",
    "    data = df2,\n",
    "    color = \"red\",\n",
    "    hue=\"during_covid\",\n",
    "    palette=[\"blue\", \"red\"],\n",
    "    style=\"during_covid\",\n",
    "    markers=[\"o\", \"s\"]\n",
    ")\n",
    "# Set plot title and labels\n",
    "plt.title(\"Delta (Ontime)\")\n",
    "plt.xlabel(\"date\")\n",
    "plt.ylabel(\"Ontime\")\n",
    "plt.xticks(rotation=45)\n",
    "plt.gca().xaxis.set_major_locator(mdates.YearLocator(1))\n",
    "# Show the plot\n",
    "plt.show()"
   ]
  },
  {
   "cell_type": "code",
   "execution_count": null,
   "metadata": {
    "colab": {
     "base_uri": "https://localhost:8080/",
     "height": 771
    },
    "id": "Tn-x7W-cPI7j",
    "outputId": "4244c804-dcb4-4c73-8622-e53a5416623e"
   },
   "outputs": [],
   "source": [
    "plt.figure(figsize=(20, 8))\n",
    "# Create a plot for domestic flights\n",
    "sns.lineplot(\n",
    "    y = \"delta_delayed\",\n",
    "    x = \"date\",\n",
    "    data = df2,\n",
    "    color = \"red\",\n",
    "    hue=\"during_covid\",\n",
    "    palette=[\"blue\", \"red\"],\n",
    "    style=\"during_covid\",\n",
    "    markers=[\"o\", \"s\"]\n",
    ")\n",
    "\n",
    "# Set plot title and labels\n",
    "plt.title(\"Delta (delayed)\")\n",
    "plt.xlabel(\"date\")\n",
    "plt.ylabel(\"Ontime\")\n",
    "plt.xticks(rotation=45)\n",
    "plt.gca().xaxis.set_major_locator(mdates.YearLocator(1))\n",
    "# Show the plot\n",
    "\n",
    "# Show the plot\n",
    "plt.show()"
   ]
  },
  {
   "cell_type": "code",
   "execution_count": null,
   "metadata": {
    "colab": {
     "base_uri": "https://localhost:8080/",
     "height": 771
    },
    "id": "jxk-2yoNzEAF",
    "outputId": "7e212227-1506-411c-a1bc-45f26e35759b"
   },
   "outputs": [],
   "source": [
    "plt.figure(figsize=(20, 8))\n",
    "# Create a plot for domestic flights\n",
    "sns.lineplot(\n",
    "    y = \"arrivals_delayed\",\n",
    "    x = \"date\",\n",
    "    data = df,\n",
    "    color = \"red\",\n",
    "    hue=\"during_covid\",\n",
    "    palette=[\"blue\", \"red\"],\n",
    "    style=\"during_covid\",\n",
    "    markers=[\"o\", \"s\"]\n",
    ")\n",
    "\n",
    "# Set plot title and labels\n",
    "plt.title(\"Arrivals (delayed)\")\n",
    "plt.xlabel(\"date\")\n",
    "plt.ylabel(\"delayed\")\n",
    "plt.xticks(rotation=45)\n",
    "plt.gca().xaxis.set_major_locator(mdates.YearLocator(1))\n",
    "# Show the plot\n",
    "\n",
    "# Show the plot\n",
    "plt.show()"
   ]
  },
  {
   "cell_type": "code",
   "execution_count": null,
   "metadata": {
    "colab": {
     "base_uri": "https://localhost:8080/",
     "height": 771
    },
    "id": "n2UURBkDIQSn",
    "outputId": "1688c845-ace5-4555-8f61-abc7623ff483"
   },
   "outputs": [],
   "source": [
    "plt.figure(figsize=(20, 8))\n",
    "# Create a plot for domestic flights\n",
    "sns.lineplot(\n",
    "    y = \"departures_delayed\",\n",
    "    x = \"date\",\n",
    "    data = df,\n",
    "    color = \"red\",\n",
    "    hue=\"during_covid\",\n",
    "    palette=[\"blue\", \"red\"],\n",
    "    style=\"during_covid\",\n",
    "    markers=[\"o\", \"s\"]\n",
    ")\n",
    "\n",
    "# Set plot title and labels\n",
    "plt.title(\"Departures (delayed)\")\n",
    "plt.xlabel(\"date\")\n",
    "plt.ylabel(\"delayed\")\n",
    "plt.xticks(rotation=45)\n",
    "plt.gca().xaxis.set_major_locator(mdates.YearLocator(1))\n",
    "# Show the plot\n",
    "\n",
    "# Show the plot\n",
    "plt.show()"
   ]
  },
  {
   "cell_type": "code",
   "execution_count": null,
   "metadata": {
    "colab": {
     "base_uri": "https://localhost:8080/",
     "height": 771
    },
    "id": "pH7KIPphI4cH",
    "outputId": "3bad52ce-69d9-4a4a-957c-1f9e6f992197"
   },
   "outputs": [],
   "source": [
    "plt.figure(figsize=(8, 8))\n",
    "# Create a plot for domestic flights\n",
    "sns.lineplot(\n",
    "    y = \"arrivals_ontime\",\n",
    "    x = \"date\",\n",
    "    data = df,\n",
    "    color = \"red\",\n",
    "    hue=\"during_covid\",\n",
    "    palette=[\"blue\", \"red\"],\n",
    "    style=\"during_covid\",\n",
    "    markers=[\"o\", \"s\"]\n",
    ")\n",
    "\n",
    "# Set plot title and labels\n",
    "plt.title(\"Arrivals (ontime)\")\n",
    "plt.xlabel(\"date\")\n",
    "plt.ylabel(\"ontime\")\n",
    "plt.xticks(rotation=45)\n",
    "plt.gca().xaxis.set_major_locator(mdates.YearLocator(1))\n",
    "# Show the plot\n",
    "\n",
    "# Show the plot\n",
    "plt.show()"
   ]
  },
  {
   "cell_type": "code",
   "execution_count": null,
   "metadata": {
    "colab": {
     "base_uri": "https://localhost:8080/",
     "height": 472
    },
    "id": "PIRsSJIjKarr",
    "outputId": "6ce3b07a-c9c2-45e7-e244-b6f59776595a"
   },
   "outputs": [],
   "source": [
    "# Create the scatter plot\n",
    "plt.scatter(df2['delta_domestic'], df2['delta_international'], label='Delta Domestic vs International Flights')\n",
    "\n",
    "# Set the plot title and labels\n",
    "plt.title('Delta Domestic vs International Flights')\n",
    "plt.xlabel('Delta Domestic')\n",
    "plt.ylabel('Delta International')\n",
    "\n",
    "# Show the plot\n",
    "plt.grid(True)\n",
    "plt.show()"
   ]
  },
  {
   "cell_type": "code",
   "execution_count": null,
   "metadata": {
    "colab": {
     "base_uri": "https://localhost:8080/",
     "height": 472
    },
    "id": "Ckq-1wIjK26E",
    "outputId": "6daf75b6-08ed-48ee-f50f-84121c1c7c69"
   },
   "outputs": [],
   "source": [
    "# @title Arrivals Domestic vs International Flights\n",
    "# Create the scatter plot\n",
    "plt.scatter(df['arrivals_domestic'], df['arrivals_international'], label='Arrivals Domestic vs International Flights')\n",
    "\n",
    "# Set the plot title and labels\n",
    "plt.title('Arrival Domestic vs International Flights')\n",
    "plt.xlabel('Arrival Domestic')\n",
    "plt.ylabel('Arrival International')\n",
    "\n",
    "# Show the plot\n",
    "plt.grid(True)\n",
    "plt.show()"
   ]
  },
  {
   "cell_type": "code",
   "execution_count": null,
   "metadata": {
    "colab": {
     "base_uri": "https://localhost:8080/",
     "height": 472
    },
    "id": "QI8dd2BaLURF",
    "outputId": "05edf419-4a15-44e8-e6bb-39c1703a5d12"
   },
   "outputs": [],
   "source": [
    "# @title Departures Domestic vs International Flights\n",
    "# Create the scatter plot\n",
    "plt.scatter(df['departures_domestic'], df['departures_international'], label='Departures Domestic vs International Flights')\n",
    "\n",
    "# Set the plot title and labels\n",
    "plt.title('Departures Domestic vs International Flights')\n",
    "plt.xlabel('Departure Domestic')\n",
    "plt.ylabel('Departure International')\n",
    "\n",
    "# Show the plot\n",
    "plt.grid(True)\n",
    "plt.show()"
   ]
  },
  {
   "cell_type": "code",
   "execution_count": null,
   "metadata": {
    "colab": {
     "base_uri": "https://localhost:8080/"
    },
    "id": "s2zXaE-1PdyJ",
    "outputId": "0754fa83-7339-45e0-854a-62a2f4def250"
   },
   "outputs": [],
   "source": [
    "df2.columns"
   ]
  },
  {
   "cell_type": "code",
   "execution_count": null,
   "metadata": {
    "colab": {
     "base_uri": "https://localhost:8080/"
    },
    "id": "cDFtiAlX2nIb",
    "outputId": "ea6073aa-2a86-4667-d78e-ce285c3a3ca5"
   },
   "outputs": [],
   "source": [
    "# Split the data into features and target\n",
    "X = df2[['delta_domestic', 'delta_international',\n",
    "       'delta_delayed', 'delta_cancelled', 'delta_passengers', 'temp',\n",
    "       'precipitation', 'during_covid']]\n",
    "y = df2['delta_ontime']\n",
    "\n",
    "# Split the data into training and testing sets\n",
    "X_train, X_test, y_train, y_test = train_test_split(X,y, test_size=0.3, random_state=42)\n",
    "\n",
    "# Define a hyperparameter grid\n",
    "hyperparameter_grid = {\n",
    "    'n_estimators': [100, 200, 500],\n",
    "    'max_depth': [2, 3, 4, 5, 10]\n",
    "}\n",
    "\n",
    "# Initialize and train the random forest model with hyperparameter tuning\n",
    "random_search = RandomizedSearchCV(\n",
    "    estimator=RandomForestRegressor(),\n",
    "    param_distributions=hyperparameter_grid,\n",
    "    n_iter=10,\n",
    "    cv=5,\n",
    "    random_state=42\n",
    ")\n",
    "\n",
    "random_search.fit(X_train, y_train)\n",
    "\n",
    "# Get the best hyperparameters and model\n",
    "best_hyperparameters = random_search.best_params_\n",
    "best_model = random_search.best_estimator_\n",
    "\n",
    "# Print the best hyperparameters\n",
    "print('Best hyperparameters:', best_hyperparameters)\n",
    "\n",
    "# Evaluate the best model on the test data\n",
    "y_pred = best_model.predict(X_test)\n",
    "mse = np.mean((y_pred - y_test)**2)\n",
    "\n",
    "print('Mean squared error on the test data:', mse)"
   ]
  },
  {
   "cell_type": "code",
   "execution_count": null,
   "metadata": {
    "colab": {
     "base_uri": "https://localhost:8080/"
    },
    "id": "5V9r24UD6bHv",
    "outputId": "09b9c7a8-a031-4568-9160-5efba9a1b730"
   },
   "outputs": [],
   "source": [
    "# Initialize and train the RandomForestRegressor\n",
    "regressor = RandomForestRegressor(n_estimators=500, max_depth=10,random_state=42)\n",
    "regressor.fit(X_train, y_train)\n",
    "\n",
    "# Get feature importances\n",
    "feature_importance = regressor.feature_importances_\n",
    "features= ['delta_domestic', 'delta_international','delta_delayed', 'delta_cancelled', 'delta_passengers', 'temp','precipitation', 'during_covid']\n",
    "for feature, importance in zip(features, feature_importance):\n",
    "    print(f'Arrivals - {feature}: {importance}')"
   ]
  }
 ],
 "metadata": {
  "colab": {
   "provenance": []
  },
  "kernelspec": {
   "display_name": "Python 3 (ipykernel)",
   "language": "python",
   "name": "python3"
  },
  "language_info": {
   "codemirror_mode": {
    "name": "ipython",
    "version": 3
   },
   "file_extension": ".py",
   "mimetype": "text/x-python",
   "name": "python",
   "nbconvert_exporter": "python",
   "pygments_lexer": "ipython3",
   "version": "3.10.9"
  }
 },
 "nbformat": 4,
 "nbformat_minor": 1
}
